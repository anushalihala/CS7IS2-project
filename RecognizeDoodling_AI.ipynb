{
  "nbformat": 4,
  "nbformat_minor": 0,
  "metadata": {
    "colab": {
      "name": "RecognizeDoodling_AI.ipynb",
      "provenance": [],
      "machine_shape": "hm",
      "mount_file_id": "1OPtzzmdQaD0a4Q2_54nVaOBh2n74s8jv",
      "authorship_tag": "ABX9TyPqd6Dt5ScnsDfzSUiC5o4w"
    },
    "kernelspec": {
      "name": "python3",
      "display_name": "Python 3"
    },
    "accelerator": "TPU"
  },
  "cells": [
    {
      "cell_type": "markdown",
      "metadata": {
        "id": "FcKhT8X2WmTX",
        "colab_type": "text"
      },
      "source": [
        "#### Importing all the necessary libraries\n",
        "\n"
      ]
    },
    {
      "cell_type": "code",
      "metadata": {
        "id": "RY-WlZJ0Wjep",
        "colab_type": "code",
        "colab": {
          "base_uri": "https://localhost:8080/",
          "height": 80
        },
        "outputId": "9523160b-f874-4369-c410-601797ff9eb8"
      },
      "source": [
        "import numpy as np\n",
        "import os\n",
        "import pickle\n",
        "\n",
        "from sklearn.model_selection import train_test_split\n",
        "from sklearn.utils import shuffle\n",
        "from keras.layers import Dense,Flatten, Conv2D\n",
        "from keras.layers import MaxPooling2D, Dropout\n",
        "from keras.utils import np_utils, print_summary\n",
        "import tensorflow as tf\n",
        "from keras.models import Sequential\n",
        "from keras.callbacks import ModelCheckpoint\n",
        "from keras.callbacks import TensorBoard\n",
        "\n",
        "from sklearn.svm import SVC\n",
        "from sklearn.metrics import accuracy_score"
      ],
      "execution_count": 1,
      "outputs": [
        {
          "output_type": "stream",
          "text": [
            "Using TensorFlow backend.\n"
          ],
          "name": "stderr"
        },
        {
          "output_type": "display_data",
          "data": {
            "text/html": [
              "<p style=\"color: red;\">\n",
              "The default version of TensorFlow in Colab will switch to TensorFlow 2.x on the 27th of March, 2020.<br>\n",
              "We recommend you <a href=\"https://www.tensorflow.org/guide/migrate\" target=\"_blank\">upgrade</a> now\n",
              "or ensure your notebook will continue to use TensorFlow 1.x via the <code>%tensorflow_version 1.x</code> magic:\n",
              "<a href=\"https://colab.research.google.com/notebooks/tensorflow_version.ipynb\" target=\"_blank\">more info</a>.</p>\n"
            ],
            "text/plain": [
              "<IPython.core.display.HTML object>"
            ]
          },
          "metadata": {
            "tags": []
          }
        }
      ]
    },
    {
      "cell_type": "markdown",
      "metadata": {
        "id": "bIt24S--WwMI",
        "colab_type": "text"
      },
      "source": [
        "####  Listing all files and directories present in the specified directory"
      ]
    },
    {
      "cell_type": "code",
      "metadata": {
        "id": "Pp0JmQckXHgx",
        "colab_type": "code",
        "colab": {}
      },
      "source": [
        "dataset = os.listdir(\"/content/drive/My Drive/Artificial Intelligence/Data/\")"
      ],
      "execution_count": 0,
      "outputs": []
    },
    {
      "cell_type": "code",
      "metadata": {
        "id": "WbfW34qXXKRe",
        "colab_type": "code",
        "outputId": "905fe4d1-a0b2-42c9-d229-4c47ea7472b7",
        "colab": {
          "base_uri": "https://localhost:8080/",
          "height": 272
        }
      },
      "source": [
        "dataset"
      ],
      "execution_count": 3,
      "outputs": [
        {
          "output_type": "execute_result",
          "data": {
            "text/plain": [
              "['full_numpy_bitmap_apple.npy',\n",
              " 'full_numpy_bitmap_bowtie.npy',\n",
              " 'full_numpy_bitmap_candle.npy',\n",
              " 'full_numpy_bitmap_door.npy',\n",
              " 'full_numpy_bitmap_envelope.npy',\n",
              " 'full_numpy_bitmap_fish.npy',\n",
              " 'full_numpy_bitmap_guitar.npy',\n",
              " 'full_numpy_bitmap_ice cream.npy',\n",
              " 'full_numpy_bitmap_lightning.npy',\n",
              " 'full_numpy_bitmap_moon.npy',\n",
              " 'full_numpy_bitmap_mountain.npy',\n",
              " 'full_numpy_bitmap_star.npy',\n",
              " 'full_numpy_bitmap_tent.npy',\n",
              " 'full_numpy_bitmap_toothbrush.npy',\n",
              " 'full_numpy_bitmap_wristwatch.npy']"
            ]
          },
          "metadata": {
            "tags": []
          },
          "execution_count": 3
        }
      ]
    },
    {
      "cell_type": "markdown",
      "metadata": {
        "id": "DuPGb_InX57z",
        "colab_type": "text"
      },
      "source": [
        "#### Creating an empty list to store the data"
      ]
    },
    {
      "cell_type": "code",
      "metadata": {
        "id": "PwO658t-XzXS",
        "colab_type": "code",
        "colab": {}
      },
      "source": [
        "data=[]\n",
        "feature = []\n",
        "x = []\n",
        "label = []"
      ],
      "execution_count": 0,
      "outputs": []
    },
    {
      "cell_type": "code",
      "metadata": {
        "id": "VHcDYmAuYHnK",
        "colab_type": "code",
        "colab": {}
      },
      "source": [
        "def load_data():\n",
        "    count = 0\n",
        "    for file in dataset:\n",
        "        file = \"/content/drive/My Drive/Artificial Intelligence/Data/\" + file\n",
        "        # Load arrays from .npy files\n",
        "        data = np.load(file)\n",
        "        # Casting the int numpy.ndarray to float numpy.ndarray\n",
        "        # Dividing it by 255 helps to get the RGB color\n",
        "        data = data.astype('float32') / 255.\n",
        "        # Extracting top 10000 rows and all columns\n",
        "        data = data[0:10000, :]\n",
        "        # Storing the extracted data from each file as feature\n",
        "        feature.append(data)\n",
        "        x = [count for _ in range(10000)]\n",
        "        count += 1\n",
        "        x = np.array(x).astype('float32')\n",
        "        # Reshaping the list to a single row \n",
        "        x = x.reshape(x.shape[0], 1)\n",
        "        # Loading teh created data as label\n",
        "        label.append(x)\n",
        "\n",
        "    return feature, label"
      ],
      "execution_count": 0,
      "outputs": []
    },
    {
      "cell_type": "markdown",
      "metadata": {
        "id": "9kkZtdQ6h74I",
        "colab_type": "text"
      },
      "source": [
        "Storing the loaded feature and label of each file as features and labels"
      ]
    },
    {
      "cell_type": "code",
      "metadata": {
        "id": "Bxq9b1tWh4V8",
        "colab_type": "code",
        "colab": {}
      },
      "source": [
        "features, labels = load_data()"
      ],
      "execution_count": 0,
      "outputs": []
    },
    {
      "cell_type": "markdown",
      "metadata": {
        "id": "BIpVZ5xejW2Y",
        "colab_type": "text"
      },
      "source": [
        "Casting the features and labels to float"
      ]
    },
    {
      "cell_type": "code",
      "metadata": {
        "id": "t68hJ_EDjAno",
        "colab_type": "code",
        "colab": {}
      },
      "source": [
        "features = np.array(features).astype('float32')\n",
        "labels = np.array(labels).astype('float32')"
      ],
      "execution_count": 0,
      "outputs": []
    },
    {
      "cell_type": "markdown",
      "metadata": {
        "id": "QMy_a8mhj1q0",
        "colab_type": "text"
      },
      "source": [
        "#### Reshaping labels and features"
      ]
    },
    {
      "cell_type": "code",
      "metadata": {
        "id": "zgNnpEGDjrIA",
        "colab_type": "code",
        "colab": {}
      },
      "source": [
        "features=features.reshape(features.shape[0]*features.shape[1],features.shape[2])\n",
        "labels=labels.reshape(labels.shape[0]*labels.shape[1],labels.shape[2])"
      ],
      "execution_count": 0,
      "outputs": []
    },
    {
      "cell_type": "code",
      "metadata": {
        "id": "kAnmS-JLlBR8",
        "colab_type": "code",
        "outputId": "42e42136-93e6-448f-d1ac-67ea221fcf37",
        "colab": {
          "base_uri": "https://localhost:8080/",
          "height": 34
        }
      },
      "source": [
        "features.shape"
      ],
      "execution_count": 9,
      "outputs": [
        {
          "output_type": "execute_result",
          "data": {
            "text/plain": [
              "(150000, 784)"
            ]
          },
          "metadata": {
            "tags": []
          },
          "execution_count": 9
        }
      ]
    },
    {
      "cell_type": "code",
      "metadata": {
        "id": "DIS9KUEDlDiX",
        "colab_type": "code",
        "outputId": "79eeff40-9629-4040-9299-c84e4fc42b6a",
        "colab": {
          "base_uri": "https://localhost:8080/",
          "height": 34
        }
      },
      "source": [
        "labels.shape"
      ],
      "execution_count": 10,
      "outputs": [
        {
          "output_type": "execute_result",
          "data": {
            "text/plain": [
              "(150000, 1)"
            ]
          },
          "metadata": {
            "tags": []
          },
          "execution_count": 10
        }
      ]
    },
    {
      "cell_type": "markdown",
      "metadata": {
        "id": "QjQHXA1-kdfh",
        "colab_type": "text"
      },
      "source": [
        "#### To store the python objects as  byte stream"
      ]
    },
    {
      "cell_type": "code",
      "metadata": {
        "id": "-3DU3a2HBbgo",
        "colab_type": "code",
        "colab": {}
      },
      "source": [
        "with open(\"features\", \"wb\") as f:\n",
        "    pickle.dump(features, f, protocol=4)\n",
        "with open(\"labels\", \"wb\") as f:\n",
        "    pickle.dump(labels, f, protocol=4)"
      ],
      "execution_count": 0,
      "outputs": []
    },
    {
      "cell_type": "code",
      "metadata": {
        "id": "p-oqaFM7EIoG",
        "colab_type": "code",
        "colab": {}
      },
      "source": [
        "def keras_model(image_x, image_y):\n",
        "    num_of_classes = 15\n",
        "    model = Sequential()\n",
        "    model.add(Conv2D(32, (5, 5), input_shape=(image_x,image_y,1), activation='relu'))\n",
        "    model.add(MaxPooling2D(pool_size=(2, 2), strides=(2, 2), padding='same'))\n",
        "    model.add(Conv2D(64, (5, 5), activation='relu'))\n",
        "    model.add(MaxPooling2D(pool_size=(2, 2), strides=(2, 2), padding='same'))\n",
        "\n",
        "    model.add(Flatten())\n",
        "    model.add(Dense(512, activation='relu'))\n",
        "    model.add(Dropout(0.6))\n",
        "    model.add(Dense(128, activation='relu'))\n",
        "    model.add(Dropout(0.6))\n",
        "    model.add(Dense(num_of_classes, activation='softmax'))\n",
        "\n",
        "    model.compile(loss='categorical_crossentropy', optimizer='adam', metrics=['accuracy'])\n",
        "    filepath = \"QuickDraw.h5\"\n",
        "    checkpoint = ModelCheckpoint(filepath, monitor='val_acc', verbose=1, save_best_only=True, mode='max')\n",
        "    callbacks_list = [checkpoint]\n",
        "\n",
        "    return model, callbacks_list"
      ],
      "execution_count": 0,
      "outputs": []
    },
    {
      "cell_type": "code",
      "metadata": {
        "id": "xvseJK4Bli9r",
        "colab_type": "code",
        "colab": {}
      },
      "source": [
        "def loadFromPickle():\n",
        "    with open(\"features\", \"rb\") as f:\n",
        "        features = np.array(pickle.load(f))\n",
        "    with open(\"labels\", \"rb\") as f:\n",
        "        labels = np.array(pickle.load(f))\n",
        "\n",
        "    return features, labels"
      ],
      "execution_count": 0,
      "outputs": []
    },
    {
      "cell_type": "code",
      "metadata": {
        "id": "bR-wkJSyloj6",
        "colab_type": "code",
        "colab": {}
      },
      "source": [
        "def augmentData(features, labels):\n",
        "    features = np.append(features, features[:, :, ::-1], axis=0)\n",
        "    labels = np.append(labels, -labels, axis=0)\n",
        "    return features, labels"
      ],
      "execution_count": 0,
      "outputs": []
    },
    {
      "cell_type": "code",
      "metadata": {
        "id": "uMaYhy7-lrV2",
        "colab_type": "code",
        "colab": {}
      },
      "source": [
        "def prepress_labels(labels):\n",
        "    labels = np_utils.to_categorical(labels)\n",
        "    return labels"
      ],
      "execution_count": 0,
      "outputs": []
    },
    {
      "cell_type": "code",
      "metadata": {
        "id": "dEdAYNmToJfD",
        "colab_type": "code",
        "colab": {}
      },
      "source": [
        "features, labels = loadFromPickle()"
      ],
      "execution_count": 0,
      "outputs": []
    },
    {
      "cell_type": "code",
      "metadata": {
        "id": "5pyIwlwPoSRX",
        "colab_type": "code",
        "colab": {}
      },
      "source": [
        "features, labels = shuffle(features, labels)"
      ],
      "execution_count": 0,
      "outputs": []
    },
    {
      "cell_type": "code",
      "metadata": {
        "id": "DEV2kqproYBY",
        "colab_type": "code",
        "colab": {}
      },
      "source": [
        "labels=prepress_labels(labels)"
      ],
      "execution_count": 0,
      "outputs": []
    },
    {
      "cell_type": "code",
      "metadata": {
        "id": "uNDVA0-5lwqc",
        "colab_type": "code",
        "colab": {}
      },
      "source": [
        "train_x, test_x, train_y, test_y = train_test_split(features, labels, random_state=0,test_size=0.1)\n",
        "train_x = train_x.reshape(train_x.shape[0], 28, 28, 1)\n",
        "test_x = test_x.reshape(test_x.shape[0], 28, 28, 1)"
      ],
      "execution_count": 0,
      "outputs": []
    },
    {
      "cell_type": "code",
      "metadata": {
        "id": "gp4dIVs_l01k",
        "colab_type": "code",
        "outputId": "92569dc1-209e-40b4-f59b-e6682c52bb70",
        "colab": {
          "base_uri": "https://localhost:8080/",
          "height": 836
        }
      },
      "source": [
        "model, callbacks_list = keras_model(28,28)\n",
        "print_summary(model)"
      ],
      "execution_count": 20,
      "outputs": [
        {
          "output_type": "stream",
          "text": [
            "WARNING:tensorflow:From /usr/local/lib/python3.6/dist-packages/keras/backend/tensorflow_backend.py:66: The name tf.get_default_graph is deprecated. Please use tf.compat.v1.get_default_graph instead.\n",
            "\n",
            "WARNING:tensorflow:From /usr/local/lib/python3.6/dist-packages/keras/backend/tensorflow_backend.py:541: The name tf.placeholder is deprecated. Please use tf.compat.v1.placeholder instead.\n",
            "\n",
            "WARNING:tensorflow:From /usr/local/lib/python3.6/dist-packages/keras/backend/tensorflow_backend.py:4432: The name tf.random_uniform is deprecated. Please use tf.random.uniform instead.\n",
            "\n",
            "WARNING:tensorflow:From /usr/local/lib/python3.6/dist-packages/keras/backend/tensorflow_backend.py:4267: The name tf.nn.max_pool is deprecated. Please use tf.nn.max_pool2d instead.\n",
            "\n",
            "WARNING:tensorflow:From /usr/local/lib/python3.6/dist-packages/keras/backend/tensorflow_backend.py:148: The name tf.placeholder_with_default is deprecated. Please use tf.compat.v1.placeholder_with_default instead.\n",
            "\n",
            "WARNING:tensorflow:From /usr/local/lib/python3.6/dist-packages/keras/backend/tensorflow_backend.py:3733: calling dropout (from tensorflow.python.ops.nn_ops) with keep_prob is deprecated and will be removed in a future version.\n",
            "Instructions for updating:\n",
            "Please use `rate` instead of `keep_prob`. Rate should be set to `rate = 1 - keep_prob`.\n",
            "WARNING:tensorflow:Large dropout rate: 0.6 (>0.5). In TensorFlow 2.x, dropout() uses dropout rate instead of keep_prob. Please ensure that this is intended.\n",
            "WARNING:tensorflow:Large dropout rate: 0.6 (>0.5). In TensorFlow 2.x, dropout() uses dropout rate instead of keep_prob. Please ensure that this is intended.\n",
            "WARNING:tensorflow:From /usr/local/lib/python3.6/dist-packages/keras/optimizers.py:793: The name tf.train.Optimizer is deprecated. Please use tf.compat.v1.train.Optimizer instead.\n",
            "\n",
            "WARNING:tensorflow:From /usr/local/lib/python3.6/dist-packages/keras/backend/tensorflow_backend.py:3576: The name tf.log is deprecated. Please use tf.math.log instead.\n",
            "\n",
            "Model: \"sequential_1\"\n",
            "_________________________________________________________________\n",
            "Layer (type)                 Output Shape              Param #   \n",
            "=================================================================\n",
            "conv2d_1 (Conv2D)            (None, 24, 24, 32)        832       \n",
            "_________________________________________________________________\n",
            "max_pooling2d_1 (MaxPooling2 (None, 12, 12, 32)        0         \n",
            "_________________________________________________________________\n",
            "conv2d_2 (Conv2D)            (None, 8, 8, 64)          51264     \n",
            "_________________________________________________________________\n",
            "max_pooling2d_2 (MaxPooling2 (None, 4, 4, 64)          0         \n",
            "_________________________________________________________________\n",
            "flatten_1 (Flatten)          (None, 1024)              0         \n",
            "_________________________________________________________________\n",
            "dense_1 (Dense)              (None, 512)               524800    \n",
            "_________________________________________________________________\n",
            "dropout_1 (Dropout)          (None, 512)               0         \n",
            "_________________________________________________________________\n",
            "dense_2 (Dense)              (None, 128)               65664     \n",
            "_________________________________________________________________\n",
            "dropout_2 (Dropout)          (None, 128)               0         \n",
            "_________________________________________________________________\n",
            "dense_3 (Dense)              (None, 15)                1935      \n",
            "=================================================================\n",
            "Total params: 644,495\n",
            "Trainable params: 644,495\n",
            "Non-trainable params: 0\n",
            "_________________________________________________________________\n"
          ],
          "name": "stdout"
        }
      ]
    },
    {
      "cell_type": "code",
      "metadata": {
        "id": "2ygBEz9Vooaz",
        "colab_type": "code",
        "outputId": "9eefc14d-41b0-4063-ce05-7166fac5b708",
        "colab": {
          "base_uri": "https://localhost:8080/",
          "height": 581
        }
      },
      "source": [
        "model.fit(train_x, train_y, validation_data=(test_x, test_y), epochs=3, batch_size=64,\n",
        "callbacks=[TensorBoard(log_dir=\"QuickDraw\")])\n",
        "model.save('QuickDraw.h5')"
      ],
      "execution_count": 21,
      "outputs": [
        {
          "output_type": "stream",
          "text": [
            "WARNING:tensorflow:From /tensorflow-1.15.2/python3.6/tensorflow_core/python/ops/math_grad.py:1424: where (from tensorflow.python.ops.array_ops) is deprecated and will be removed in a future version.\n",
            "Instructions for updating:\n",
            "Use tf.where in 2.0, which has the same broadcast rule as np.where\n",
            "WARNING:tensorflow:From /usr/local/lib/python3.6/dist-packages/keras/backend/tensorflow_backend.py:1033: The name tf.assign_add is deprecated. Please use tf.compat.v1.assign_add instead.\n",
            "\n",
            "WARNING:tensorflow:From /usr/local/lib/python3.6/dist-packages/keras/backend/tensorflow_backend.py:1020: The name tf.assign is deprecated. Please use tf.compat.v1.assign instead.\n",
            "\n",
            "WARNING:tensorflow:From /usr/local/lib/python3.6/dist-packages/keras/backend/tensorflow_backend.py:3005: The name tf.Session is deprecated. Please use tf.compat.v1.Session instead.\n",
            "\n",
            "Train on 135000 samples, validate on 15000 samples\n",
            "WARNING:tensorflow:From /usr/local/lib/python3.6/dist-packages/keras/backend/tensorflow_backend.py:190: The name tf.get_default_session is deprecated. Please use tf.compat.v1.get_default_session instead.\n",
            "\n",
            "WARNING:tensorflow:From /usr/local/lib/python3.6/dist-packages/keras/backend/tensorflow_backend.py:197: The name tf.ConfigProto is deprecated. Please use tf.compat.v1.ConfigProto instead.\n",
            "\n",
            "WARNING:tensorflow:From /usr/local/lib/python3.6/dist-packages/keras/backend/tensorflow_backend.py:207: The name tf.global_variables is deprecated. Please use tf.compat.v1.global_variables instead.\n",
            "\n",
            "WARNING:tensorflow:From /usr/local/lib/python3.6/dist-packages/keras/backend/tensorflow_backend.py:216: The name tf.is_variable_initialized is deprecated. Please use tf.compat.v1.is_variable_initialized instead.\n",
            "\n",
            "WARNING:tensorflow:From /usr/local/lib/python3.6/dist-packages/keras/backend/tensorflow_backend.py:223: The name tf.variables_initializer is deprecated. Please use tf.compat.v1.variables_initializer instead.\n",
            "\n",
            "WARNING:tensorflow:From /usr/local/lib/python3.6/dist-packages/keras/callbacks.py:1122: The name tf.summary.merge_all is deprecated. Please use tf.compat.v1.summary.merge_all instead.\n",
            "\n",
            "WARNING:tensorflow:From /usr/local/lib/python3.6/dist-packages/keras/callbacks.py:1125: The name tf.summary.FileWriter is deprecated. Please use tf.compat.v1.summary.FileWriter instead.\n",
            "\n",
            "Epoch 1/3\n",
            "135000/135000 [==============================] - 41s 301us/step - loss: 0.6424 - acc: 0.8158 - val_loss: 0.3003 - val_acc: 0.9144\n",
            "WARNING:tensorflow:From /usr/local/lib/python3.6/dist-packages/keras/callbacks.py:1265: The name tf.Summary is deprecated. Please use tf.compat.v1.Summary instead.\n",
            "\n",
            "Epoch 2/3\n",
            "135000/135000 [==============================] - 40s 296us/step - loss: 0.3476 - acc: 0.9069 - val_loss: 0.2573 - val_acc: 0.9285\n",
            "Epoch 3/3\n",
            "135000/135000 [==============================] - 40s 299us/step - loss: 0.2927 - acc: 0.9223 - val_loss: 0.2485 - val_acc: 0.9328\n"
          ],
          "name": "stdout"
        }
      ]
    },
    {
      "cell_type": "code",
      "metadata": {
        "id": "reyqFdLznpia",
        "colab_type": "code",
        "colab": {}
      },
      "source": [
        "score = model.evaluate(test_x, test_y, verbose=0)"
      ],
      "execution_count": 0,
      "outputs": []
    },
    {
      "cell_type": "code",
      "metadata": {
        "id": "tLmwjd0Do96T",
        "colab_type": "code",
        "outputId": "365738ad-062f-4177-ac20-9a4990116201",
        "colab": {
          "base_uri": "https://localhost:8080/",
          "height": 34
        }
      },
      "source": [
        "score"
      ],
      "execution_count": 23,
      "outputs": [
        {
          "output_type": "execute_result",
          "data": {
            "text/plain": [
              "[0.24854030679961045, 0.9328000000317891]"
            ]
          },
          "metadata": {
            "tags": []
          },
          "execution_count": 23
        }
      ]
    },
    {
      "cell_type": "markdown",
      "metadata": {
        "id": "gb2hGcs4pJbs",
        "colab_type": "text"
      },
      "source": [
        "#### SVM Implementation"
      ]
    },
    {
      "cell_type": "code",
      "metadata": {
        "id": "XrFSXNBevQPI",
        "colab_type": "code",
        "colab": {}
      },
      "source": [
        "data=[]\n",
        "feature = []\n",
        "x = []\n",
        "label = []\n",
        "def load_data():\n",
        "    count = 0\n",
        "    for file in dataset:\n",
        "        file = \"/content/drive/My Drive/Artificial Intelligence/Data/\" + file\n",
        "        # Load arrays from .npy files\n",
        "        data = np.load(file)\n",
        "        # Casting the int numpy.ndarray to float numpy.ndarray\n",
        "        # Dividing it by 255 helps to get the RGB color\n",
        "        data = data.astype('float32') / 255.\n",
        "        # Extracting top 10000 rows and all columns\n",
        "        data = data[0:10000, :]\n",
        "        # Storing the extracted data from each file as feature\n",
        "        feature.append(data)\n",
        "        x = [count for _ in range(10000)]\n",
        "        count += 1\n",
        "        x = np.array(x).astype('float32')\n",
        "        # Reshaping the list to a single row \n",
        "        x = x.reshape(x.shape[0], 1)\n",
        "        # Loading teh created data as label\n",
        "        label.append(x)\n",
        "\n",
        "    return feature, label"
      ],
      "execution_count": 0,
      "outputs": []
    },
    {
      "cell_type": "code",
      "metadata": {
        "id": "Asf3XH9BvYd_",
        "colab_type": "code",
        "colab": {}
      },
      "source": [
        "features, labels = load_data()"
      ],
      "execution_count": 0,
      "outputs": []
    },
    {
      "cell_type": "code",
      "metadata": {
        "id": "EXX5svNIvhqK",
        "colab_type": "code",
        "colab": {}
      },
      "source": [
        "features = np.array(features).astype('float32')\n",
        "labels = np.array(labels).astype('float32')"
      ],
      "execution_count": 0,
      "outputs": []
    },
    {
      "cell_type": "code",
      "metadata": {
        "id": "48OXDSyDvmDj",
        "colab_type": "code",
        "colab": {}
      },
      "source": [
        "features=features.reshape(features.shape[0]*features.shape[1],features.shape[2])\n",
        "labels=labels.reshape(labels.shape[0]*labels.shape[1],labels.shape[2])"
      ],
      "execution_count": 0,
      "outputs": []
    },
    {
      "cell_type": "code",
      "metadata": {
        "id": "bmIKUiUXpJCm",
        "colab_type": "code",
        "colab": {}
      },
      "source": [
        "x_train, x_test, y_train, y_test = train_test_split(features, labels, random_state=0,test_size=0.1)"
      ],
      "execution_count": 0,
      "outputs": []
    },
    {
      "cell_type": "code",
      "metadata": {
        "id": "SAfYEbTqotZ1",
        "colab_type": "code",
        "colab": {}
      },
      "source": [
        "clf = SVC(kernel='linear')"
      ],
      "execution_count": 0,
      "outputs": []
    },
    {
      "cell_type": "code",
      "metadata": {
        "id": "jQLyKkaIpffw",
        "colab_type": "code",
        "colab": {
          "base_uri": "https://localhost:8080/",
          "height": 71
        },
        "outputId": "10a89464-1351-429b-a744-e75d20164889"
      },
      "source": [
        "clf.fit(x_train,y_train)"
      ],
      "execution_count": 0,
      "outputs": [
        {
          "output_type": "stream",
          "text": [
            "/usr/local/lib/python3.6/dist-packages/sklearn/utils/validation.py:760: DataConversionWarning: A column-vector y was passed when a 1d array was expected. Please change the shape of y to (n_samples, ), for example using ravel().\n",
            "  y = column_or_1d(y, warn=True)\n"
          ],
          "name": "stderr"
        }
      ]
    },
    {
      "cell_type": "code",
      "metadata": {
        "id": "V70FZSHpsjq9",
        "colab_type": "code",
        "colab": {}
      },
      "source": [
        "y_pred = clf.predict(x_test)\n",
        "print(accuracy_score(y_test,y_pred))"
      ],
      "execution_count": 0,
      "outputs": []
    }
  ]
}