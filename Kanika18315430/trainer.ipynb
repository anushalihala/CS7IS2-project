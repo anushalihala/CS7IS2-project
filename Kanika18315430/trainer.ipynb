{
  "nbformat": 4,
  "nbformat_minor": 0,
  "metadata": {
    "colab": {
      "name": "trainer.ipynb",
      "provenance": [],
      "collapsed_sections": []
    },
    "kernelspec": {
      "name": "python3",
      "display_name": "Python 3"
    },
    "accelerator": "GPU"
  },
  "cells": [
    {
      "cell_type": "code",
      "metadata": {
        "id": "h0obbT4YI9Zp",
        "colab_type": "code",
        "outputId": "7c126292-6c80-4d1d-9834-4fdcb2b4e2db",
        "colab": {
          "base_uri": "https://localhost:8080/",
          "height": 124
        }
      },
      "source": [
        "from google.colab import drive\n",
        "drive.mount('/content/drive')"
      ],
      "execution_count": 1,
      "outputs": [
        {
          "output_type": "stream",
          "text": [
            "Go to this URL in a browser: https://accounts.google.com/o/oauth2/auth?client_id=947318989803-6bn6qk8qdgf4n4g3pfee6491hc0brc4i.apps.googleusercontent.com&redirect_uri=urn%3aietf%3awg%3aoauth%3a2.0%3aoob&response_type=code&scope=email%20https%3a%2f%2fwww.googleapis.com%2fauth%2fdocs.test%20https%3a%2f%2fwww.googleapis.com%2fauth%2fdrive%20https%3a%2f%2fwww.googleapis.com%2fauth%2fdrive.photos.readonly%20https%3a%2f%2fwww.googleapis.com%2fauth%2fpeopleapi.readonly\n",
            "\n",
            "Enter your authorization code:\n",
            "··········\n",
            "Mounted at /content/drive\n"
          ],
          "name": "stdout"
        }
      ]
    },
    {
      "cell_type": "code",
      "metadata": {
        "id": "m3lW-EKbJUxR",
        "colab_type": "code",
        "colab": {}
      },
      "source": [
        "import numpy as np\n",
        "from sklearn.model_selection import train_test_split\n",
        "import sklearn as sk\n",
        "from sklearn.cluster import KMeans\n",
        "from sklearn.ensemble import RandomForestClassifier\n",
        "from sklearn.neural_network import MLPClassifier"
      ],
      "execution_count": 0,
      "outputs": []
    },
    {
      "cell_type": "markdown",
      "metadata": {
        "id": "mCLMoe_phvSn",
        "colab_type": "text"
      },
      "source": [
        ""
      ]
    },
    {
      "cell_type": "code",
      "metadata": {
        "id": "LnA5bEmMKI_c",
        "colab_type": "code",
        "colab": {
          "base_uri": "https://localhost:8080/",
          "height": 81
        },
        "outputId": "f71275a3-492a-4536-fd91-578b05c6d2e4"
      },
      "source": [
        "from keras.layers import Dense, Flatten, Conv2D, MaxPooling2D, Dropout\n",
        "from keras.utils import np_utils, print_summary\n",
        "import tensorflow as tf\n",
        "from keras.models import Sequential\n",
        "from keras.callbacks import ModelCheckpoint\n",
        "import pickle\n",
        "from keras.callbacks import TensorBoard"
      ],
      "execution_count": 3,
      "outputs": [
        {
          "output_type": "stream",
          "text": [
            "Using TensorFlow backend.\n"
          ],
          "name": "stderr"
        },
        {
          "output_type": "display_data",
          "data": {
            "text/html": [
              "<p style=\"color: red;\">\n",
              "The default version of TensorFlow in Colab will switch to TensorFlow 2.x on the 27th of March, 2020.<br>\n",
              "We recommend you <a href=\"https://www.tensorflow.org/guide/migrate\" target=\"_blank\">upgrade</a> now\n",
              "or ensure your notebook will continue to use TensorFlow 1.x via the <code>%tensorflow_version 1.x</code> magic:\n",
              "<a href=\"https://colab.research.google.com/notebooks/tensorflow_version.ipynb\" target=\"_blank\">more info</a>.</p>\n"
            ],
            "text/plain": [
              "<IPython.core.display.HTML object>"
            ]
          },
          "metadata": {
            "tags": []
          }
        }
      ]
    },
    {
      "cell_type": "code",
      "metadata": {
        "id": "65N0Hw6Gzu4W",
        "colab_type": "code",
        "colab": {}
      },
      "source": [
        "from matplotlib import pyplot as plt"
      ],
      "execution_count": 0,
      "outputs": []
    },
    {
      "cell_type": "code",
      "metadata": {
        "id": "rznNPE367vCJ",
        "colab_type": "code",
        "colab": {}
      },
      "source": [
        "cnn_checkpoint_path = \"/content/drive/My Drive/Colab Notebooks/CS7IS2 - Artificial Intelligence/cnn_model.h5\"\n",
        "features_path = \"/content/drive/My Drive/Colab Notebooks/CS7IS2 - Artificial Intelligence/features\"\n",
        "labels_path = \"/content/drive/My Drive/Colab Notebooks/CS7IS2 - Artificial Intelligence/labels\"\n",
        "logs_directory_path = \"/content/drive/My Drive/Colab Notebooks/CS7IS2 - Artificial Intelligence/logs\"\n",
        "NumberOfClasses = 15"
      ],
      "execution_count": 0,
      "outputs": []
    },
    {
      "cell_type": "code",
      "metadata": {
        "id": "xHtluFc8sYcw",
        "colab_type": "code",
        "colab": {}
      },
      "source": [
        "def cnn_model(x, y, classes):\n",
        "  # classes = 15\n",
        "  model = Sequential()\n",
        "  model.add(Conv2D(32, (5, 5), input_shape=(x,y,1), activation='relu'))\n",
        "  model.add(MaxPooling2D(pool_size=(2, 2), strides=(2, 2), padding='same'))\n",
        "  model.add(Conv2D(64, (5, 5), activation='relu'))\n",
        "  model.add(MaxPooling2D(pool_size=(2, 2), strides=(2, 2), padding='same'))\n",
        "\n",
        "  model.add(Flatten())\n",
        "  model.add(Dense(512, activation='relu'))\n",
        "  model.add(Dropout(0.6))\n",
        "  model.add(Dense(classes, activation='softmax'))\n",
        "  model.compile(loss='categorical_crossentropy', optimizer='adam', metrics=['accuracy'])\n",
        "  # file_path = \"/content/drive/My Drive/Colab Notebooks/CS7IS2 - Artificial Intelligence/Qickdraw.h5\"\n",
        "  checkpoint = ModelCheckpoint(cnn_checkpoint_path, monitor='val_acc', verbose=1, save_best_only=True, mode='max')\n",
        "  callbacks_list = [checkpoint]\n",
        "\n",
        "  return model, callbacks_list"
      ],
      "execution_count": 0,
      "outputs": []
    },
    {
      "cell_type": "code",
      "metadata": {
        "id": "7wH-jjw8uQ7R",
        "colab_type": "code",
        "colab": {}
      },
      "source": [
        "def load_data():\n",
        "  file = open(features_path,\"rb\")\n",
        "  try:\n",
        "    features = np.array(pickle.load(file))\n",
        "  finally:\n",
        "    file.close()\n",
        "\n",
        "  file1 = open(labels_path, \"rb\")\n",
        "  try:\n",
        "    labels = np.array(pickle.load(file1))\n",
        "  finally:\n",
        "    file1.close()\n",
        "\n",
        "  return features, labels"
      ],
      "execution_count": 0,
      "outputs": []
    },
    {
      "cell_type": "code",
      "metadata": {
        "id": "RZ6uB5jDvmTd",
        "colab_type": "code",
        "colab": {}
      },
      "source": [
        "def augmentData(features, labels):\n",
        "    features = np.append(features, features[:, :, ::-1], axis=0)\n",
        "    labels = np.append(labels, -labels, axis=0)\n",
        "    return features, labels"
      ],
      "execution_count": 0,
      "outputs": []
    },
    {
      "cell_type": "code",
      "metadata": {
        "id": "h8cWo5Y6yYl1",
        "colab_type": "code",
        "colab": {}
      },
      "source": [
        "def preprocessLabels(labels):\n",
        "  labels = np_utils.to_categorical(labels)\n",
        "  return labels"
      ],
      "execution_count": 0,
      "outputs": []
    },
    {
      "cell_type": "code",
      "metadata": {
        "id": "DJ9jb0rWx-uU",
        "colab_type": "code",
        "colab": {
          "base_uri": "https://localhost:8080/",
          "height": 52
        },
        "outputId": "ad5d8067-188f-4a56-8a9c-de9d87490b09"
      },
      "source": [
        "features, labels = load_data()\n",
        "features, labels = sk.utils.shuffle(features, labels)\n",
        "print (\"features.shape: \", features.shape)\n",
        "print (\"labels.shape: \", labels.shape)"
      ],
      "execution_count": 63,
      "outputs": [
        {
          "output_type": "stream",
          "text": [
            "features.shape:  (150000, 784)\n",
            "labels.shape:  (150000, 1)\n"
          ],
          "name": "stdout"
        }
      ]
    },
    {
      "cell_type": "code",
      "metadata": {
        "id": "m0EpMs0U0rBu",
        "colab_type": "code",
        "outputId": "050f2a7c-6b74-4cb6-c587-0842bc15c352",
        "colab": {
          "base_uri": "https://localhost:8080/",
          "height": 35
        }
      },
      "source": [
        "labels = preprocessLabels(labels)\n",
        "print (\"labels.shape: \", labels.shape)"
      ],
      "execution_count": 64,
      "outputs": [
        {
          "output_type": "stream",
          "text": [
            "labels.shape:  (150000, 15)\n"
          ],
          "name": "stdout"
        }
      ]
    },
    {
      "cell_type": "code",
      "metadata": {
        "id": "2fwZnPdA01ax",
        "colab_type": "code",
        "colab": {}
      },
      "source": [
        "train_x, test_x, train_y, test_y = train_test_split(features, labels, random_state=0, test_size=0.1)"
      ],
      "execution_count": 0,
      "outputs": []
    },
    {
      "cell_type": "code",
      "metadata": {
        "id": "cp3Vg3LH0-wy",
        "colab_type": "code",
        "outputId": "cd8dfd8d-00e1-426e-e77e-b38fa943af45",
        "colab": {
          "base_uri": "https://localhost:8080/",
          "height": 87
        }
      },
      "source": [
        "print (train_x.shape)\n",
        "print (test_x.shape)\n",
        "print (train_y.shape)\n",
        "print (test_y.shape)"
      ],
      "execution_count": 66,
      "outputs": [
        {
          "output_type": "stream",
          "text": [
            "(135000, 784)\n",
            "(15000, 784)\n",
            "(135000, 15)\n",
            "(15000, 15)\n"
          ],
          "name": "stdout"
        }
      ]
    },
    {
      "cell_type": "code",
      "metadata": {
        "id": "9ZYhSbkI189j",
        "colab_type": "code",
        "colab": {
          "base_uri": "https://localhost:8080/",
          "height": 52
        },
        "outputId": "cbc67ec4-aef0-43a5-b662-77b3e938811d"
      },
      "source": [
        "train_x = train_x.reshape(train_x.shape[0], 28, 28, 1)\n",
        "test_x = test_x.reshape(test_x.shape[0], 28, 28, 1)\n",
        "print (\"test_x.shape: \", test_x.shape)\n",
        "print (\"train_x.shape: \", train_x.shape)"
      ],
      "execution_count": 67,
      "outputs": [
        {
          "output_type": "stream",
          "text": [
            "test_x.shape:  (15000, 28, 28, 1)\n",
            "train_x.shape:  (135000, 28, 28, 1)\n"
          ],
          "name": "stdout"
        }
      ]
    },
    {
      "cell_type": "code",
      "metadata": {
        "id": "n40zo2Rs6CnT",
        "colab_type": "code",
        "outputId": "59412e3f-8f18-4dae-fecb-bbf67af4efe2",
        "colab": {
          "base_uri": "https://localhost:8080/",
          "height": 471
        }
      },
      "source": [
        "modelCNN, callbacks_list = cnn_model(28, 28, NumberOfClasses)\n",
        "print_summary(modelCNN)"
      ],
      "execution_count": 68,
      "outputs": [
        {
          "output_type": "stream",
          "text": [
            "WARNING:tensorflow:Large dropout rate: 0.6 (>0.5). In TensorFlow 2.x, dropout() uses dropout rate instead of keep_prob. Please ensure that this is intended.\n",
            "Model: \"sequential_2\"\n",
            "_________________________________________________________________\n",
            "Layer (type)                 Output Shape              Param #   \n",
            "=================================================================\n",
            "conv2d_3 (Conv2D)            (None, 24, 24, 32)        832       \n",
            "_________________________________________________________________\n",
            "max_pooling2d_3 (MaxPooling2 (None, 12, 12, 32)        0         \n",
            "_________________________________________________________________\n",
            "conv2d_4 (Conv2D)            (None, 8, 8, 64)          51264     \n",
            "_________________________________________________________________\n",
            "max_pooling2d_4 (MaxPooling2 (None, 4, 4, 64)          0         \n",
            "_________________________________________________________________\n",
            "flatten_2 (Flatten)          (None, 1024)              0         \n",
            "_________________________________________________________________\n",
            "dense_3 (Dense)              (None, 512)               524800    \n",
            "_________________________________________________________________\n",
            "dropout_2 (Dropout)          (None, 512)               0         \n",
            "_________________________________________________________________\n",
            "dense_4 (Dense)              (None, 15)                7695      \n",
            "=================================================================\n",
            "Total params: 584,591\n",
            "Trainable params: 584,591\n",
            "Non-trainable params: 0\n",
            "_________________________________________________________________\n"
          ],
          "name": "stdout"
        }
      ]
    },
    {
      "cell_type": "code",
      "metadata": {
        "id": "_XONHY6p6q-K",
        "colab_type": "code",
        "outputId": "b5ba5793-dcd6-409e-c96a-2eff09895b22",
        "colab": {
          "base_uri": "https://localhost:8080/",
          "height": 156
        }
      },
      "source": [
        " modelCNN.fit(train_x, train_y, validation_data=(test_x, test_y), epochs=3, batch_size=64, callbacks=[TensorBoard(log_dir=logs_directory_path)])"
      ],
      "execution_count": 69,
      "outputs": [
        {
          "output_type": "stream",
          "text": [
            "Train on 135000 samples, validate on 15000 samples\n",
            "Epoch 1/3\n",
            "135000/135000 [==============================] - 20s 147us/step - loss: 0.4749 - acc: 0.8638 - val_loss: 0.2639 - val_acc: 0.9257\n",
            "Epoch 2/3\n",
            "135000/135000 [==============================] - 19s 142us/step - loss: 0.2716 - acc: 0.9237 - val_loss: 0.2128 - val_acc: 0.9403\n",
            "Epoch 3/3\n",
            "135000/135000 [==============================] - 19s 142us/step - loss: 0.2275 - acc: 0.9359 - val_loss: 0.2108 - val_acc: 0.9397\n"
          ],
          "name": "stdout"
        },
        {
          "output_type": "execute_result",
          "data": {
            "text/plain": [
              "<keras.callbacks.History at 0x7ff36ff640b8>"
            ]
          },
          "metadata": {
            "tags": []
          },
          "execution_count": 69
        }
      ]
    },
    {
      "cell_type": "markdown",
      "metadata": {
        "id": "yiKtfMIY7o9h",
        "colab_type": "text"
      },
      "source": [
        ""
      ]
    },
    {
      "cell_type": "code",
      "metadata": {
        "id": "aXPZPpz77LyW",
        "colab_type": "code",
        "colab": {}
      },
      "source": [
        "modelCNN.save(cnn_checkpoint_path)"
      ],
      "execution_count": 0,
      "outputs": []
    },
    {
      "cell_type": "code",
      "metadata": {
        "id": "iwg8iEhe5tIr",
        "colab_type": "code",
        "colab": {}
      },
      "source": [
        "cnn_score = modelCNN.evaluate(test_x, test_y, verbose=0)"
      ],
      "execution_count": 0,
      "outputs": []
    },
    {
      "cell_type": "code",
      "metadata": {
        "id": "n3X-RigGVV6H",
        "colab_type": "code",
        "colab": {}
      },
      "source": [
        "train_x, test_x, train_y, test_y = train_test_split(features, labels, random_state=0, test_size=0.1)"
      ],
      "execution_count": 0,
      "outputs": []
    },
    {
      "cell_type": "code",
      "metadata": {
        "id": "gZBAx4S_LT89",
        "colab_type": "code",
        "colab": {}
      },
      "source": [
        "# Implementing K-Means\n",
        "kmeans = KMeans(n_clusters = 5, random_state=0)"
      ],
      "execution_count": 0,
      "outputs": []
    },
    {
      "cell_type": "code",
      "metadata": {
        "id": "5FlpQI7WMeHh",
        "colab_type": "code",
        "colab": {
          "base_uri": "https://localhost:8080/",
          "height": 69
        },
        "outputId": "f9540154-fe56-4a80-89e8-78a7eeac8d9a"
      },
      "source": [
        "kmeans.fit(train_x, train_y)"
      ],
      "execution_count": 75,
      "outputs": [
        {
          "output_type": "execute_result",
          "data": {
            "text/plain": [
              "KMeans(algorithm='auto', copy_x=True, init='k-means++', max_iter=300,\n",
              "       n_clusters=5, n_init=10, n_jobs=None, precompute_distances='auto',\n",
              "       random_state=0, tol=0.0001, verbose=0)"
            ]
          },
          "metadata": {
            "tags": []
          },
          "execution_count": 75
        }
      ]
    },
    {
      "cell_type": "code",
      "metadata": {
        "id": "G94kh9TOVpCe",
        "colab_type": "code",
        "colab": {}
      },
      "source": [
        "kmeans_score = kmeans.score(test_x, test_y)"
      ],
      "execution_count": 0,
      "outputs": []
    },
    {
      "cell_type": "code",
      "metadata": {
        "id": "WdVaAheObLp3",
        "colab_type": "code",
        "colab": {
          "base_uri": "https://localhost:8080/",
          "height": 156
        },
        "outputId": "469c2874-5e96-4ae7-e5bf-9f67cdfb2a4d"
      },
      "source": [
        "# Random Forrest\n",
        "classifier = RandomForestClassifier(n_estimators=100, n_jobs=-1, random_state=0)\n",
        "classifier.fit(train_x, train_y)"
      ],
      "execution_count": 77,
      "outputs": [
        {
          "output_type": "execute_result",
          "data": {
            "text/plain": [
              "RandomForestClassifier(bootstrap=True, ccp_alpha=0.0, class_weight=None,\n",
              "                       criterion='gini', max_depth=None, max_features='auto',\n",
              "                       max_leaf_nodes=None, max_samples=None,\n",
              "                       min_impurity_decrease=0.0, min_impurity_split=None,\n",
              "                       min_samples_leaf=1, min_samples_split=2,\n",
              "                       min_weight_fraction_leaf=0.0, n_estimators=100,\n",
              "                       n_jobs=-1, oob_score=False, random_state=0, verbose=0,\n",
              "                       warm_start=False)"
            ]
          },
          "metadata": {
            "tags": []
          },
          "execution_count": 77
        }
      ]
    },
    {
      "cell_type": "code",
      "metadata": {
        "id": "hXTvwiESejQj",
        "colab_type": "code",
        "colab": {}
      },
      "source": [
        "rfc_score = classifier.score(test_x, test_y)"
      ],
      "execution_count": 0,
      "outputs": []
    },
    {
      "cell_type": "code",
      "metadata": {
        "id": "akMOY7IxhSM_",
        "colab_type": "code",
        "colab": {}
      },
      "source": [
        "# # Multi-Layer Perceptron (MLP)\n",
        "\n",
        "# classifier = MLPClassifier(hidden_layer_sizes=784, random_state=0)"
      ],
      "execution_count": 0,
      "outputs": []
    },
    {
      "cell_type": "code",
      "metadata": {
        "id": "C13-4m7iigyT",
        "colab_type": "code",
        "colab": {}
      },
      "source": [
        "# classifier.fit(train_x, train_y)"
      ],
      "execution_count": 0,
      "outputs": []
    },
    {
      "cell_type": "code",
      "metadata": {
        "id": "GMUmTHlulZNm",
        "colab_type": "code",
        "colab": {}
      },
      "source": [
        "# mlp_score = classifier.score(test_x, test_y)"
      ],
      "execution_count": 0,
      "outputs": []
    },
    {
      "cell_type": "code",
      "metadata": {
        "id": "WKiw-ndJlInf",
        "colab_type": "code",
        "colab": {
          "base_uri": "https://localhost:8080/",
          "height": 87
        },
        "outputId": "525984d0-a625-4074-f8da-da97ced1b884"
      },
      "source": [
        "print (\"CNN Loss: \", cnn_score[0])\n",
        "print (\"CNN Accuracy: \", cnn_score[1])\n",
        "print (\"K-Means score: \" , kmeans_score)\n",
        "print (\"Random Forest Classifier Score: \", rfc_score)\n",
        "# print (\"Multi Layer Perceptron Classifier Score: \", mlp_score)"
      ],
      "execution_count": 82,
      "outputs": [
        {
          "output_type": "stream",
          "text": [
            "CNN Loss:  0.21080010418494544\n",
            "CNN Accuracy:  0.9397333333015442\n",
            "K-Means score:  -837605.75\n",
            "Random Forest Classifier Score:  0.7010666666666666\n"
          ],
          "name": "stdout"
        }
      ]
    }
  ]
}